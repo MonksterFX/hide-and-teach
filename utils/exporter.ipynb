{
 "cells": [
  {
   "cell_type": "code",
   "execution_count": 36,
   "metadata": {
    "practice_cell": false,
    "teaching_cell": false
   },
   "outputs": [],
   "source": [
    "import nbformat\n",
    "import os\n",
    "from nbconvert.preprocessors import ExecutePreprocessor"
   ]
  },
  {
   "cell_type": "code",
   "execution_count": 37,
   "metadata": {
    "practice_cell": false
   },
   "outputs": [],
   "source": [
    "# Options\n",
    "CLEAR_FRIST_CC = True # clear first code cell"
   ]
  },
  {
   "cell_type": "code",
   "execution_count": 38,
   "metadata": {
    "teaching_cell": false
   },
   "outputs": [],
   "source": [
    "file_name = '../tmp/Test.ipynb'\n",
    "with open(file_name) as f:\n",
    "    nb = nbformat.read(f, as_version=4)"
   ]
  },
  {
   "cell_type": "code",
   "execution_count": 39,
   "metadata": {
    "teaching_cell": false
   },
   "outputs": [],
   "source": [
    "# get cells\n",
    "cells = []\n",
    "last_cell_cleared = False\n",
    "\n",
    "for c in nb.get('cells'):\n",
    " \n",
    "    # metadata are existing\n",
    "    if c.get('metadata', False):\n",
    "        \n",
    "        if not c.get('metadata').get('practice_cell', False):\n",
    "            cells.append(c)\n",
    "            last_cell_cleared = False\n",
    "        elif CLEAR_FRIST_CC:\n",
    "            # cell is marked remove\n",
    "            if not last_cell_cleared:\n",
    "                cells.append(nbformat.v4.new_code_cell())\n",
    "            last_cell_cleared = True\n",
    "\n",
    "    else:\n",
    "        cells.append(c)\n",
    "        last_cell_cleared = False\n",
    "        \n",
    "nb['cells'] = cells"
   ]
  },
  {
   "cell_type": "code",
   "execution_count": 40,
   "metadata": {},
   "outputs": [],
   "source": [
    "# check if dir exist\n",
    "if not os.path.isdir(os.path.dirname(file_name) + '/clean'):\n",
    "    os.mkdir(os.path.dirname(file_name) + '/clean')\n",
    "\n",
    "with open(os.path.dirname(file_name) + '/clean/' + os.path.basename(file_name), 'w', encoding='utf-8') as f:\n",
    "    nbformat.write(nb, f)"
   ]
  }
 ],
 "metadata": {
  "celltoolbar": "Raw Cell Format",
  "kernelspec": {
   "display_name": "Python 3",
   "language": "python",
   "name": "python3"
  },
  "language_info": {
   "codemirror_mode": {
    "name": "ipython",
    "version": 3
   },
   "file_extension": ".py",
   "mimetype": "text/x-python",
   "name": "python",
   "nbconvert_exporter": "python",
   "pygments_lexer": "ipython3",
   "version": "3.6.7"
  }
 },
 "nbformat": 4,
 "nbformat_minor": 2
}
