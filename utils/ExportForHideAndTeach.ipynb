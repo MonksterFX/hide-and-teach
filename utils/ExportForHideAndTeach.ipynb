{
 "cells": [
  {
   "cell_type": "code",
   "execution_count": 46,
   "metadata": {
    "practice_cell": false,
    "teaching_cell": false
   },
   "outputs": [],
   "source": [
    "import nbformat\n",
    "import os\n",
    "from nbconvert.preprocessors import ExecutePreprocessor"
   ]
  },
  {
   "cell_type": "code",
   "execution_count": 47,
   "metadata": {},
   "outputs": [],
   "source": [
    "# Paths to look for .ipynb\n",
    "# DIRS = ['../../pandas-basic/teilnehmer/loesung/',]\n",
    "DIRS = ['../tests']"
   ]
  },
  {
   "cell_type": "code",
   "execution_count": 48,
   "metadata": {
    "practice_cell": false
   },
   "outputs": [],
   "source": [
    "# Options\n",
    "LAST_ROW_STANDING = True # delete all successive code cell but leave one for starting\n",
    "SPECIFIC_VERSION = 1.1\n",
    "REMOVE_FIRST = True # no "
   ]
  },
  {
   "cell_type": "code",
   "execution_count": 49,
   "metadata": {
    "teaching_cell": false
   },
   "outputs": [],
   "source": [
    "# Functions\n",
    "def open_nb(filepath):\n",
    "    with open(filepath, encoding='utf-8') as f:\n",
    "        nb = nbformat.read(f, as_version=4)\n",
    "        \n",
    "    return nb\n",
    "\n",
    "def save_nb(filepath, nb):\n",
    "    # check if dir exist\n",
    "    if not os.path.isdir(os.path.dirname(filepath) + '/clean'):\n",
    "        os.mkdir(os.path.dirname(filepath) + '/clean')\n",
    "    \n",
    "    # my files have a ' - Loesung' at the end, which is to remove\n",
    "    with open(os.path.dirname(filepath) + '/clean/' + os.path.basename(filepath).replace(' - Loesung', ''), 'w', encoding='utf-8') as f:\n",
    "        nbformat.write(nb, f)\n",
    "        \n",
    "def process_cells(nb):\n",
    "    cells = []\n",
    "    last_cell_cleared = REMOVE_FIRST\n",
    "    \n",
    "    # ToDo: Add Version\n",
    "    if SPECIFIC_VERSION > 0:\n",
    "        nb.metadata['practise_cell_export_version'] = SPECIFIC_VERSION\n",
    "    else:\n",
    "        nb.metadata['practise_cell_export_version'] = \\\n",
    "            nb.metadata.get('practise_cell_export_version', 0) + 1\n",
    "    \n",
    "    for c in nb.get('cells'):\n",
    "        if c.get('cell_type') == 'code':\n",
    "            # check metadata if cell is protected\n",
    "            if c.get('metadata', False) and \\\n",
    "            c.get('metadata').get('ht_protected', False):\n",
    "\n",
    "                cells.append(c)\n",
    "                last_cell_cleared = False\n",
    "\n",
    "            else:\n",
    "                # decide if cell will be removed\n",
    "                if not last_cell_cleared:\n",
    "                    cells.append(nbformat.v4.new_code_cell())\n",
    "                    last_cell_cleared = True\n",
    "\n",
    "        else:\n",
    "            if c.get('metadata', False) and \\\n",
    "            c.get('metadata').get('ht_enforce_remove', False):\n",
    "                # remove add cell if enforced\n",
    "                if not last_cell_cleared:\n",
    "                    cells.append(nbformat.v4.new_markdown_cell())\n",
    "                    last_cell_cleared = True\n",
    "            else:\n",
    "                cells.append(c)\n",
    "                last_cell_cleared = False\n",
    "      \n",
    "    nb['cells'] = cells\n",
    "    return nb"
   ]
  },
  {
   "cell_type": "code",
   "execution_count": 51,
   "metadata": {},
   "outputs": [
    {
     "name": "stdout",
     "output_type": "stream",
     "text": [
      "Done Converting Files: ../tests\\test_file_1.ipynb\n"
     ]
    }
   ],
   "source": [
    "for d in DIRS:\n",
    "    for entry in os.scandir(d):\n",
    "        if entry.is_file() and entry.name.endswith(\".ipynb\"):\n",
    "            nb = open_nb(entry.path)\n",
    "            nb = process_cells(nb)\n",
    "            save_nb(entry.path, nb)\n",
    "            nb = None\n",
    "    \n",
    "    print('Done Converting Files: {}'.format(entry.path))\n",
    "            \n"
   ]
  }
 ],
 "metadata": {
  "celltoolbar": "Raw Cell Format",
  "kernelspec": {
   "display_name": "Python 3",
   "language": "python",
   "name": "python3"
  },
  "language_info": {
   "codemirror_mode": {
    "name": "ipython",
    "version": 3
   },
   "file_extension": ".py",
   "mimetype": "text/x-python",
   "name": "python",
   "nbconvert_exporter": "python",
   "pygments_lexer": "ipython3",
   "version": "3.6.7"
  }
 },
 "nbformat": 4,
 "nbformat_minor": 4
}
