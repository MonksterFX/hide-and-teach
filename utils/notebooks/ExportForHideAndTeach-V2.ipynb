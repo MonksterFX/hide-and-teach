{
 "cells": [
  {
   "cell_type": "code",
   "execution_count": 26,
   "metadata": {
    "practice_cell": false,
    "teaching_cell": false
   },
   "outputs": [],
   "source": [
    "import nbformat\n",
    "import os\n",
    "from nbconvert.preprocessors import ExecutePreprocessor"
   ]
  },
  {
   "cell_type": "code",
   "execution_count": 27,
   "metadata": {},
   "outputs": [],
   "source": [
    "# Paths to look for .ipynb\n",
    "# DIRS = ['../../pandas-basic/teilnehmer/loesung/',]\n",
    "DIRS = ['../../course-python-beginner/lessons/python introduction']\n",
    "OUT_DIRS = [] # empty list is same dir default to clean folder\n",
    "OUT_DIR = 'clean'\n",
    "POSTFIX = '' # default not postfix\n",
    "REPLACE_FILENAME = ('', '')"
   ]
  },
  {
   "cell_type": "code",
   "execution_count": 28,
   "metadata": {
    "practice_cell": false
   },
   "outputs": [],
   "source": [
    "# Options\n",
    "LAST_ROW_STANDING = True # add a emtpy code cell at the end of the document \n",
    "SPECIFIC_VERSION = 1.1"
   ]
  },
  {
   "cell_type": "code",
   "execution_count": 29,
   "metadata": {
    "teaching_cell": false
   },
   "outputs": [],
   "source": [
    "# Functions\n",
    "def open_nb(filepath):\n",
    "    with open(filepath, encoding='utf-8') as f:\n",
    "        nb = nbformat.read(f, as_version=4)\n",
    "        \n",
    "    return nb\n",
    "\n",
    "def save_nb(d, filepath, nb):\n",
    "    # check if dir exist\n",
    "    if not os.path.isdir(os.path.dirname(filepath) + '/clean'):\n",
    "        os.mkdir(os.path.dirname(filepath) + '/clean')\n",
    "    \n",
    "    # create basename\n",
    "    filename = os.path.basename(filepath).replace(REPLACE_FILENAME[0], REPLACE_FILENAME[1])\n",
    "    filename = filename.replace('.ipynb', POSTFIX + '.ipynb')\n",
    "    \n",
    "    # my files have a ' - Loesung' at the end, which is to remove\n",
    "    with open(os.path.dirname(filepath) + '/clean/' + filename, 'w', encoding='utf-8') as f:\n",
    "        nbformat.write(nb, f)\n",
    "\n",
    "def add_version(nb):\n",
    "    nb.metadata['ht_cell_export_version'] = SPECIFIC_VERSION\n",
    "        \n",
    "def process_cells(nb):\n",
    "    out_cells = []\n",
    "    nb_cell_state = {'last_codecell_delete': False,\n",
    "                    'last_markdown_delete':False}\n",
    "    \n",
    "    # main loop\n",
    "    for c in nb.get('cells'):\n",
    "    \n",
    "        # handle code cells\n",
    "        if c.get('cell_type') == 'code':\n",
    "\n",
    "            ht_protected = c.get('metadata').get('ht_protected', None)\n",
    "            nb_cell_state['last_markdown_delete'] = False\n",
    "            \n",
    "            if ht_protected:\n",
    "                out_cells.append(c)\n",
    "                nb_cell_state['last_codecell_delete'] = True\n",
    "            elif ht_protected == False:\n",
    "                out_cells.append(c)\n",
    "                nb_cell_state['last_codecell_delete'] = False\n",
    "            else:\n",
    "                # kill code cell\n",
    "                nb_cell_state['last_codecell_delete'] = True\n",
    "\n",
    "        elif c.get('cell_type') == 'markdown':\n",
    "            \n",
    "            ht_enforce_remove = c.get('metadata').get('ht_enforce_remove', None)\n",
    "            \n",
    "            # check if last one was markdown enforced or codecell\n",
    "            if nb_cell_state['last_codecell_delete']:\n",
    "                out_cells.append(nbformat.v4.new_code_cell())\n",
    "            if nb_cell_state['last_markdown_delete'] and \\\n",
    "            ht_enforce_remove is None:\n",
    "                out_cells.append(nbformat.v4.new_markdown_cell())\n",
    "            \n",
    "            # reset code cell status\n",
    "            nb_cell_state['last_codecell_delete'] = False\n",
    "\n",
    "            if ht_enforce_remove:\n",
    "                # kill markdown cell\n",
    "                nb_cell_state['last_markdown_delete'] = True\n",
    "            elif ht_enforce_remove == False:\n",
    "                # kill markdown cell\n",
    "                nb_cell_state['last_markdown_delete'] = False\n",
    "            else:\n",
    "                nb_cell_state['last_markdown_delete'] = False\n",
    "                out_cells.append(c)\n",
    "\n",
    "    if LAST_ROW_STANDING and nb_cell_state['last_codecell_delete']:\n",
    "        out_cells.append(nbformat.v4.new_code_cell())\n",
    "    \n",
    "    nb['cells'] = out_cells\n",
    "    return nb"
   ]
  },
  {
   "cell_type": "code",
   "execution_count": 30,
   "metadata": {},
   "outputs": [
    {
     "data": {
      "text/plain": [
       "['../../course-python-beginner/lessons/python introduction/clean']"
      ]
     },
     "execution_count": 30,
     "metadata": {},
     "output_type": "execute_result"
    }
   ],
   "source": [
    "if len(OUT_DIRS) == 1:\n",
    "    out_dirs = [OUT_DIRS[0]] * len(DIRS)\n",
    "elif len(OUT_DIRS) == len(DIRS):\n",
    "    out_dirs = OUT_DIRS\n",
    "elif len(OUT_DIRS) == 0:\n",
    "    out_dirs = [d + '/' + OUT_DIR for d in DIRS]\n",
    "else:\n",
    "    raise ValueError('Length missmatch between OUT_DIR and DIRS')\n",
    "out_dirs"
   ]
  },
  {
   "cell_type": "code",
   "execution_count": 31,
   "metadata": {},
   "outputs": [
    {
     "name": "stdout",
     "output_type": "stream",
     "text": [
      "Done Converting Files: ../../course-python-beginner/lessons/python introduction\\0X-strings.ipynb\n"
     ]
    }
   ],
   "source": [
    "for d in DIRS:\n",
    "    for entry in os.scandir(d):\n",
    "        if entry.is_file() and entry.name.endswith(\".ipynb\"):\n",
    "            nb = open_nb(entry.path)\n",
    "            nb = process_cells(nb)\n",
    "            save_nb(d, entry.path, nb)\n",
    "            nb = None\n",
    "    \n",
    "    print('Done Converting Files: {}'.format(entry.path))\n",
    "            "
   ]
  }
 ],
 "metadata": {
  "celltoolbar": "Raw Cell Format",
  "kernelspec": {
   "display_name": "Python [default]",
   "language": "python",
   "name": "python3"
  },
  "language_info": {
   "codemirror_mode": {
    "name": "ipython",
    "version": 3
   },
   "file_extension": ".py",
   "mimetype": "text/x-python",
   "name": "python",
   "nbconvert_exporter": "python",
   "pygments_lexer": "ipython3",
   "version": "3.6.4"
  }
 },
 "nbformat": 4,
 "nbformat_minor": 4
}
